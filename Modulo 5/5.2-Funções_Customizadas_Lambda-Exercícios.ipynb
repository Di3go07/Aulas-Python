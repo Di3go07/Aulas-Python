{
 "cells": [
  {
   "cell_type": "markdown",
   "id": "cbdff5a5",
   "metadata": {},
   "source": [
    "# Módulo 5 - Funções\n",
    "\n",
    "## Aulas 5.2 - Funções Customizadas e 5.4 Funções ```lambda```"
   ]
  },
  {
   "cell_type": "markdown",
   "id": "28a3fee2",
   "metadata": {},
   "source": [
    "### Q1.\n",
    "\n",
    "- Sabendo que o código a seguir calcula o fatorial de n, escreva uma função chamada ```fatorial()``` que recebe um inteiro ```n``` como parâmetro e retorna o resultado do fatorial de ```n```. \n",
    "- No programa principal, peça ao usuário o valor de ```n```, chame a sua função e imprima o retorno.\n",
    "\n",
    "```python\n",
    "fat = 1\n",
    "for i in range(1, n+1):\n",
    "    fat *= i \n",
    "```"
   ]
  },
  {
   "cell_type": "code",
   "execution_count": 1,
   "id": "d126b3a5",
   "metadata": {},
   "outputs": [],
   "source": [
    "#função\n",
    "def fatorial(valor):\n",
    "    fat = 1\n",
    "    for i in range(1, valor+1):\n",
    "        fat *= i\n",
    "    return fat"
   ]
  },
  {
   "cell_type": "code",
   "execution_count": 4,
   "id": "6e4fe64e",
   "metadata": {
    "scrolled": true
   },
   "outputs": [
    {
     "name": "stdout",
     "output_type": "stream",
     "text": [
      "Valor: 3\n",
      "6\n"
     ]
    }
   ],
   "source": [
    "#programa principal\n",
    "n = int(input('Valor: '))\n",
    "resultado = fatorial(n)\n",
    "print(resultado)"
   ]
  },
  {
   "cell_type": "markdown",
   "id": "c0a1f599",
   "metadata": {},
   "source": [
    "### Q2.\n",
    "\n",
    "- Escreva uma função em Python chamada ```soma_quadrados``` que recebe dois números como parâmetros e retorna a soma dos seus quadrados. \n",
    "- No programa principal solicite ao usuário que insira dois números e utilize a função para exibir a soma dos quadrados."
   ]
  },
  {
   "cell_type": "code",
   "execution_count": 8,
   "id": "6dbddaad",
   "metadata": {},
   "outputs": [],
   "source": [
    "#função\n",
    "\n",
    "def soma_quadrados(x, y):\n",
    "    quadrado1 = x * x\n",
    "    quadrado2 = y * y\n",
    "    soma_quad = quadrado1 + quadrado2\n",
    "    return soma_quad"
   ]
  },
  {
   "cell_type": "code",
   "execution_count": 9,
   "id": "9175a7da",
   "metadata": {},
   "outputs": [
    {
     "name": "stdout",
     "output_type": "stream",
     "text": [
      "Digite um valor: 5\n",
      "Digite outro valor: 2\n",
      "A soma dos quadrados de 5 e 2 é 29\n"
     ]
    }
   ],
   "source": [
    "num1 = int(input('Digite um valor: '))\n",
    "num2 = int(input('Digite outro valor: '))\n",
    "\n",
    "resultado = soma_quadrados(num1, num2)\n",
    "\n",
    "print(f'A soma dos quadrados de {num1} e {num2} é {resultado}')"
   ]
  },
  {
   "cell_type": "markdown",
   "id": "6ba34ce0",
   "metadata": {},
   "source": [
    "### Q3.\n",
    "\n",
    "- Crie uma função em Python chamada ```soma_digitos``` que recebe um número inteiro como parâmetro e retorna a soma dos seus dígitos. Por exemplo, para o número 123, a função deve retornar 6, $(1 + 2 + 3)$.\n",
    "    - O desafio aqui é separar os dígitos de um número inteiro usando operações aritméticas <br> <br>\n",
    "\n",
    "- No programa principal solicite ao usuário que insira um número e utilize a função ```soma_digitos``` para calcular e exibir a soma dos seus dígitos."
   ]
  },
  {
   "cell_type": "code",
   "execution_count": null,
   "id": "34838ebf",
   "metadata": {},
   "outputs": [],
   "source": [
    "#Função\n",
    "\n",
    "def soma_digitos(x):\n",
    "    soma = 0\n",
    "    while x > 0:\n",
    "        quebra = x//10\n",
    "        soma += x%10\n",
    "        x = quebra\n",
    "    return soma"
   ]
  },
  {
   "cell_type": "code",
   "execution_count": null,
   "id": "27c35b21",
   "metadata": {},
   "outputs": [],
   "source": [
    "num = int(input('Digite um valor: '))\n",
    "resultado = soma_digitos(num)\n",
    "print(f'A soma dos algarismos de {num} é {resultado}')"
   ]
  },
  {
   "cell_type": "markdown",
   "id": "c318b159",
   "metadata": {},
   "source": [
    "### Q4.\n",
    "\n",
    "- Crie a função ```inverteValor()``` que recebe um inteiro de qualquer tamanho e retorna esse valor invertido usando apenas operações aritméticas\n",
    "- Crie a função ```verificaInverso()``` que recebe o valor original e o valor invertido e retorna verdadeiro se ambos forem igualmente par ou igualmente ímpar. Retorne falso caso contrário.\n",
    "- No programa principal, peça um valor do usuário e imprima o retorno de ambas as funções.\n"
   ]
  },
  {
   "cell_type": "code",
   "execution_count": null,
   "id": "e4e47d1d",
   "metadata": {},
   "outputs": [],
   "source": [
    "#FUNÇÃO\n",
    "def invertValores(x): \n",
    "    sequência = 0\n",
    "    while x > 0:\n",
    "        digito_invertido =  x % 10 \n",
    "        x //= 10 #quociente\n",
    "        sequência = sequência * 10 + digito_invertido #aumenta a casa do resto anterior quando um novo é adicionado\n",
    "    return sequência   \n",
    "#ex: 5432 --> 2345\n",
    "#    2 -> 0 * 10 + 2 = 2\n",
    "#    3 -> 2 * 10 + 3 = 23   \n",
    "#    4 -> 23 * 10 + 4 = 234\n",
    "#    5 -> 234 * 10 + 5 = 2345 \n",
    "\n",
    "def verificaValores(x, x_invertido):\n",
    "    if x%2 == 0 and x_invertido%2 == 0:\n",
    "        return True\n",
    "    elif x%2 != 0 and x_invertido%2 != 0:\n",
    "        return True\n",
    "    else:\n",
    "        return False"
   ]
  },
  {
   "cell_type": "code",
   "execution_count": null,
   "id": "a9514e56",
   "metadata": {},
   "outputs": [],
   "source": [
    "#Cdigo\n",
    "n = int(input('Valor: '))\n",
    "\n",
    "inverter = invertValores(n)\n",
    "print(\"O valor invertido é\", inverter)\n",
    "conferir = verificaValores(n, inverter)\n",
    "print(\"O número original e o invertido são igualmente pares ou ímpares:\", conferir)"
   ]
  },
  {
   "cell_type": "markdown",
   "id": "329be966",
   "metadata": {},
   "source": [
    "### Q5.\n",
    "\n",
    "Você está desenvolvendo um programa para auxiliar em cálculos de geometria básica. Crie as seguintes funções:\n",
    "- A função ```calcula_perimetro_triangulo()``` que recebe três inteiros correspondentes aos lados de um triângulo e retorna o perímetro do triângulo, ou seja, a soma dos seus lados.\n",
    "- A função ```calcula_perimetro_circulo()``` que recebe um inteiro referente ao raio do círculo e retorna o perímetro do círculo, dado por $2 \\pi r$. Use a constante $\\pi$ da biblioteca ```math```.\n",
    "- A função ```calcula_perimetro_retangulo()``` que possui um parâmetro obrigatório ```lado1``` e um opcional ```lado2```, ambos inteiros. Se o valor opcional não for fornecido, significa que se trata de um quadrado. Sua função deve calcular e retornar o perímetro do retângulo, ou seja, a soma de seus lados. \n",
    "    - Para o quadrado, é dado por $4 \\times lado1$\n",
    "    - Para o retângulo é dado por $2 \\times lado1 + 2 \\times lado2$\n",
    "    \n",
    "- No programa principal apresente um menu com as opções disponíveis do seu sistema e uma quarta opção ```Sair```. Solicite ao usuário a opção desejada, solicite as entradas correspondentes à opção escolhida, invoque a respective função e apresente o seu retorno. Seu programa deve retornar ao menu até que o usuário escolha a opção ```Sair```\n",
    "\n",
    "Exemplo de interação:\n",
    "```\n",
    "1 - Calcular perímetro triângulo\n",
    "2 - Calcular perímetro círculo\n",
    "3 - Calcular perímetro retângulo\n",
    "4 - Sair\n",
    "\n",
    "Opção: 1\n",
    "Digite os três lados do triângulo:\n",
    "3\n",
    "4\n",
    "5\n",
    "O perímetro é: 12\n",
    "\n",
    "1 - Calcular perímetro triângulo\n",
    "2 - Calcular perímetro círculo\n",
    "3 - Calcular perímetro retângulo\n",
    "4 - Sair\n",
    "\n",
    "Opção: 3\n",
    "Informe os dois lados do retângulo. Se for um quadrado, digite 0 para o segundo valor:\n",
    "5\n",
    "0\n",
    "O perímetro é: 20\n",
    "\n",
    "1 - Calcular perímetro triângulo\n",
    "2 - Calcular perímetro círculo\n",
    "3 - Calcular perímetro retângulo\n",
    "4 - Sair\n",
    "\n",
    "Opção: 4\n",
    "```"
   ]
  },
  {
   "cell_type": "code",
   "execution_count": null,
   "id": "0793d328",
   "metadata": {},
   "outputs": [],
   "source": [
    "import math\n",
    "\n",
    "#Funções\n",
    "\n",
    "def calcula_perimetro_triangulo(lado1, lado2, lado3):\n",
    "    perimetro_tri = lado1 + lado2 + lado3\n",
    "    return perimetro_tri\n",
    "\n",
    "def calcula_perimetro_circulo(r):\n",
    "    perimetro_circ = math.pi * r * 2\n",
    "    return perimetro_circ\n",
    "\n",
    "def calcula_perimetro_quadrilatero(x,y):\n",
    "    if y == 0:\n",
    "        forma = 'quadrado'\n",
    "        perimetro_quadrado = 4 * x\n",
    "        return forma, perimetro_quadrado\n",
    "    else:\n",
    "        forma = 'retângulo'\n",
    "        perimetro_retangulo = 2*x + 2*y\n",
    "        return forma, perimetro_retangulo\n"
   ]
  },
  {
   "cell_type": "code",
   "execution_count": null,
   "id": "36269c71",
   "metadata": {},
   "outputs": [],
   "source": [
    "#Processamento\n",
    "\n",
    "while True:\n",
    "    print('-'*15)\n",
    "    print('- Calculo de perimetros -')\n",
    "    print('Escolha a função que você deseja')\n",
    "    print('1 - Calcular perímetro triângulo')\n",
    "    print('2 - Calcular perímetro círculo')\n",
    "    print('3 - Calcular perímetro quadrilatero')\n",
    "    print('4 - Sair')\n",
    "    escolha = int(input('Digite o número referente: '))\n",
    "    print('-'*15)\n",
    "\n",
    "    if escolha == 4:\n",
    "        print('Fim')\n",
    "        break\n",
    "\n",
    "    if escolha == 1:\n",
    "        t1 = int(input('Lado 1 do triângulo: '))\n",
    "        t2 = int(input('Lado 2 do triângulo: '))\n",
    "        t3 = int(input('Lado 3 do triângulo: '))\n",
    "        triangulo = calcula_perimetro_triangulo(t1,t2,t3)\n",
    "        print(f'O perimetro do triângulo é {triangulo}')\n",
    "\n",
    "    if escolha == 2:\n",
    "        c = int(input('Raio do circulo: '))\n",
    "        circulo = calcula_perimetro_circulo(c)\n",
    "        print(f'O perimetro do círculo é {circulo:.2f}')\n",
    "\n",
    "    if escolha == 3:\n",
    "        print('Informe os dois lados do retângulo. Se for um quadrado, digite 0 para o segundo valor.')\n",
    "        q1 = int(input('Lado 1 do quadrilatero: '))\n",
    "        q2 = int(input('Lado 2 do quadrilatero: '))\n",
    "        forma, quadrilatero = calcula_perimetro_quadrilatero(q1, q2)\n",
    "        print(f'O perimetro do {forma} é {quadrilatero}')\n"
   ]
  },
  {
   "cell_type": "markdown",
   "id": "3016bcc7",
   "metadata": {},
   "source": [
    "## Funções ```lambda```"
   ]
  },
  {
   "cell_type": "markdown",
   "id": "f9cdb8dd",
   "metadata": {},
   "source": [
    "### Q6.\n",
    "\n",
    "Crie uma função lambda para verificar se um número é par ou ímpar. Em seguida, solicite ao usuário um número indefinidos de valores (até que o usuário digite 0). Para cada valor de entrada, informe se é par ou ímpar.\n",
    "\n",
    "Exemplo de interação:\n",
    "```\n",
    "Digite os valores que deseja verificar a paridade (digite 0 para finalizar a entrada de dados):\n",
    "3\n",
    "ímpar\n",
    "8\n",
    "par\n",
    "12\n",
    "par\n",
    "5\n",
    "ímpar\n",
    "7ímpar\n",
    "```"
   ]
  },
  {
   "cell_type": "code",
   "execution_count": null,
   "id": "e3c31a78",
   "metadata": {},
   "outputs": [],
   "source": [
    "func = lambda x : x%2 \n",
    "\n",
    "\n",
    "while True:\n",
    "    num = int(input('Digite um valor: '))\n",
    "    if num == 0:\n",
    "        break\n",
    "    if func(num) == 0:\n",
    "        print('par')\n",
    "    else:\n",
    "        print('ímpar')"
   ]
  },
  {
   "cell_type": "markdown",
   "id": "5a87474d",
   "metadata": {},
   "source": [
    "### Q7.\n",
    "\n",
    "Escreva um programa que pergunte ao usuário qual operação ele deseja: maior ou menor.\n",
    "Em seguida leia uma quantidade indefinida de valores do usuário, até que o usuário digite o valor zero.\n",
    "Apresente ao final o maior ou menor dos valores digitados de acordo com a escolha do usuário.\n",
    "\n",
    "**Sua solução deve incluir pelo menos uma função ```lambda```** \n",
    "\n",
    "Exemplo de interação:\n",
    "```\n",
    "Opções: (1) maior ou (2) menor?\n",
    "Opção: 1\n",
    "\n",
    "Digite os valores de entrada. Digite 0 para finalizar a entrada de valores.\n",
    "4\n",
    "12\n",
    "15\n",
    "1\n",
    "0\n",
    "\n",
    "O maior valor é: 15\n",
    "```"
   ]
  },
  {
   "cell_type": "code",
   "execution_count": null,
   "id": "ee3f68ca",
   "metadata": {},
   "outputs": [],
   "source": [
    "print('Você deseja o maior(1) ou o menor(2) valor? ')\n",
    "resposta = int(input())\n",
    "\n",
    "if resposta == 1:\n",
    "    result = float('-inf')\n",
    "    func = lambda a,b: a>b\n",
    "else:\n",
    "    result = float('inf')\n",
    "    func = lambda a,b: a<b\n",
    "\n",
    "while True:\n",
    "    x = int(input('Digite um valor: '))\n",
    "    if x == 0:\n",
    "        break\n",
    "\n",
    "    if func(x, result):\n",
    "        result = x\n",
    "\n",
    "print(result)"
   ]
  }
 ],
 "metadata": {
  "kernelspec": {
   "display_name": "Python 3 (ipykernel)",
   "language": "python",
   "name": "python3"
  },
  "language_info": {
   "codemirror_mode": {
    "name": "ipython",
    "version": 3
   },
   "file_extension": ".py",
   "mimetype": "text/x-python",
   "name": "python",
   "nbconvert_exporter": "python",
   "pygments_lexer": "ipython3",
   "version": "3.11.5"
  }
 },
 "nbformat": 4,
 "nbformat_minor": 5
}
